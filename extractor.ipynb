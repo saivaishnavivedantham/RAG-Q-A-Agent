{
 "cells": [
  {
   "cell_type": "code",
   "execution_count": 1,
   "id": "7b01f48f-24e8-4604-ac32-ac5b0428db3b",
   "metadata": {},
   "outputs": [],
   "source": [
    "import os\n",
    "from bs4 import BeautifulSoup\n",
    "from pathlib import Path\n",
    "\n",
    "# Directory Setup\n",
    "DATA_DIR = Path(\"data\")\n",
    "EXTRACTED_DIR = DATA_DIR / \"extracted\"\n",
    "EXTRACTED_DIR.mkdir(parents=True, exist_ok=True) # Ensure output directory exists\n",
    "\n",
    "# Helper Function\n",
    "def extract_text_from_html(file_path):\n",
    "    \"\"\"\n",
    "    Extracts all visible text from an HTML file using BeautifulSoup.\n",
    "    \"\"\"\n",
    "    with open(file_path, \"r\", encoding=\"utf-8\") as f:\n",
    "        soup = BeautifulSoup(f, \"html.parser\")\n",
    "\n",
    "        # Remove script and style elements\n",
    "        for script in soup([\"script\", \"style\"]):\n",
    "            script.extract()\n",
    "\n",
    "        # Get text and clean it\n",
    "        text = soup.get_text(separator=\" \", strip=True)\n",
    "        return text\n",
    "\n",
    "def run_extractor():\n",
    "    \"\"\"\n",
    "    Processes all *_10K.html files in the data/ folder, extracts key sections,\n",
    "    and saves clean .txt files into data/extracted/.\n",
    "    \"\"\"\n",
    "    print(f\"Ensured output directory '{EXTRACTED_DIR.resolve()}' exists.\")\n",
    "    print(\"\\nStarting extraction process...\")\n",
    "\n",
    "    html_files_processed = 0\n",
    "    for html_file_path in DATA_DIR.glob(\"*.html\"):\n",
    "        html_files_processed += 1\n",
    "        output_txt_path = EXTRACTED_DIR / html_file_path.name.replace(\".html\", \".txt\")\n",
    "\n",
    "        print(f\" Extracting from {html_file_path.name}...\")\n",
    "        clean_text = extract_text_from_html(html_file_path)\n",
    "\n",
    "        with open(output_txt_path, \"w\", encoding=\"utf-8\") as f_out:\n",
    "            f_out.write(clean_text)\n",
    "        print(f\"Saved extracted text to {output_txt_path}\")\n",
    "\n",
    "    print(f\"\\nFinished extraction process. Total HTML files processed: {html_files_processed}\")"
   ]
  }
 ],
 "metadata": {
  "kernelspec": {
   "display_name": "Python 3 (ipykernel)",
   "language": "python",
   "name": "python3"
  },
  "language_info": {
   "codemirror_mode": {
    "name": "ipython",
    "version": 3
   },
   "file_extension": ".py",
   "mimetype": "text/x-python",
   "name": "python",
   "nbconvert_exporter": "python",
   "pygments_lexer": "ipython3",
   "version": "3.11.6"
  }
 },
 "nbformat": 4,
 "nbformat_minor": 5
}
